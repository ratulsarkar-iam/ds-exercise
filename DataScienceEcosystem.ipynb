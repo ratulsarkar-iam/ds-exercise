{
 "cells": [
  {
   "cell_type": "markdown",
   "id": "4300dbe1-5869-4d27-83e0-ab5d6a4ee9f8",
   "metadata": {},
   "source": [
    "<h1>Data Science Tools and Ecosystem</h1>"
   ]
  },
  {
   "cell_type": "markdown",
   "id": "3301b0e6-14cd-4b35-94d1-e86e54bcb118",
   "metadata": {},
   "source": [
    "In this notebook, Data Science Tools and Ecosystem are summarized."
   ]
  },
  {
   "cell_type": "markdown",
   "id": "4ea474db-3c62-486a-beef-2698dbe35748",
   "metadata": {},
   "source": [
    "Some of the popular languages that Data Scientists use are:\n",
    "1. Python\n",
    "2. R\n",
    "3. Julia\n",
    "4. Scala"
   ]
  },
  {
   "cell_type": "markdown",
   "id": "259e7e3b-5fbd-41a6-abe6-5ec473725c97",
   "metadata": {},
   "source": [
    "Some of the commonly used libraries used by Data Scientists include:\n",
    "1. NumPy\n",
    "2. Pandas\n",
    "3. Matplotlib\n",
    "4. TensorFlow"
   ]
  },
  {
   "cell_type": "markdown",
   "id": "4c25bb38-8b49-4ce7-a468-bf220cad323d",
   "metadata": {},
   "source": [
    "| Data Science Tools      |\n",
    "|-------------------------|\n",
    "| Jupyter Notebook        |\n",
    "| RStudio                |\n",
    "| Apache Zeppelin        |\n"
   ]
  },
  {
   "cell_type": "markdown",
   "id": "452db418-c4af-4362-9bcb-96f96f54da7b",
   "metadata": {},
   "source": [
    "<h3>Below are a few examples of evaluating arithmetic expressions in Python</h3>"
   ]
  },
  {
   "cell_type": "code",
   "execution_count": 3,
   "id": "c0a80971-a328-4774-a718-f3c1e4b98de2",
   "metadata": {},
   "outputs": [
    {
     "name": "stdout",
     "output_type": "stream",
     "text": [
      "17\n"
     ]
    }
   ],
   "source": [
    "# This a simple arithmetic expression to mutiply then add integers\n",
    "result = (3 * 4) + 5\n",
    "print(result)  # Expected output: 17"
   ]
  },
  {
   "cell_type": "code",
   "execution_count": 4,
   "id": "c06b55ae-99d3-4643-97b5-a93c8cdefa42",
   "metadata": {},
   "outputs": [
    {
     "name": "stdout",
     "output_type": "stream",
     "text": [
      "3.3333333333333335\n"
     ]
    }
   ],
   "source": [
    "# This will convert 200 minutes to hours by dividing by 60.\n",
    "hours = 200 / 60\n",
    "print(hours)  # Expected output: 3.3333...\n"
   ]
  },
  {
   "cell_type": "markdown",
   "id": "3b357da9-508d-4b76-ac8a-774c582d1e3a",
   "metadata": {},
   "source": [
    "<b>Objectives:<b>\n",
    "<li>List popular languages for Data Science</li>\n",
    "<li>List popular libraries for Data Science</li>\n",
    "<li>Few Example of python code</li>"
   ]
  },
  {
   "cell_type": "markdown",
   "id": "81f59aab-d2a6-4a67-889a-1cc522643377",
   "metadata": {},
   "source": [
    "<h2>Author </h2>\n",
    "Ratul Sarkar"
   ]
  },
  {
   "cell_type": "code",
   "execution_count": null,
   "id": "7f948b67-1f7c-477e-8709-7a044e906243",
   "metadata": {},
   "outputs": [],
   "source": []
  }
 ],
 "metadata": {
  "kernelspec": {
   "display_name": "Python 3 (ipykernel)",
   "language": "python",
   "name": "python3"
  },
  "language_info": {
   "codemirror_mode": {
    "name": "ipython",
    "version": 3
   },
   "file_extension": ".py",
   "mimetype": "text/x-python",
   "name": "python",
   "nbconvert_exporter": "python",
   "pygments_lexer": "ipython3",
   "version": "3.13.2"
  }
 },
 "nbformat": 4,
 "nbformat_minor": 5
}
